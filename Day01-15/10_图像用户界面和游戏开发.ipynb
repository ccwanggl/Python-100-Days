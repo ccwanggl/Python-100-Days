{
 "cells": [
  {
   "cell_type": "markdown",
   "source": [
    "## 图形用户界面和游戏开发"
   ],
   "metadata": {
    "collapsed": false
   }
  },
  {
   "cell_type": "markdown",
   "source": [
    "### 基于 tkinter 模块的 GUI\n",
    "\n",
    "GUI 是图形用户界面的缩写，图形化的用户界面对使用过计算机的人来说应该都不陌生，在此也无需进行赘述。Python 默认的 GUI 开发模块是 tkinter（在 Python 3 以前的版本中名为 Tkinter），从这个名字就可以看出它是基于 Tk 的，Tk 是一个工具包，最初是为 Tcl 设计的，后来被移植到很多其他的脚本语言中，它提供了跨平台的 GUI 控件。当然 Tk 并不是最新和最好的选择，也没有功能特别强大的 GUI 控件，事实上，开发 GUI 应用并不是 Python 最擅长的工作，如果真的需要使用 Python 开发 GUI 应用，wxPython、PyQt、PyGTK 等模块都是不错的选择。\n",
    "\n",
    "基本上使用 tkinter 来开发 GUI 应用需要以下 5 个步骤：\n",
    "\n",
    "1. 导入 tkinter 模块中我们需要的东西。\n",
    "2. 创建一个顶层窗口对象并用它来承载整个 GUI 应用。\n",
    "3. 在顶层窗口对象上添加 GUI 组件。\n",
    "4. 通过代码将这些 GUI 组件的功能组织起来。\n",
    "5. 进入主事件循环(main loop)。\n",
    "\n",
    "下面的代码演示了如何使用 tkinter 做一个简单的 GUI 应用。"
   ],
   "metadata": {
    "collapsed": false
   }
  },
  {
   "cell_type": "code",
   "execution_count": 1,
   "outputs": [],
   "source": [
    "import tkinter\n",
    "import tkinter.messagebox\n",
    "\n",
    "\n",
    "def main():\n",
    "    flag = True\n",
    "\n",
    "    # 修改标签上的文字\n",
    "    def change_label_text():\n",
    "        nonlocal flag\n",
    "        flag = not flag\n",
    "        color, msg = ('red', 'Hello, world!') \\\n",
    "            if flag else ('blue', 'Goodbye, world!')\n",
    "        label.config(text=msg, fg=color)\n",
    "\n",
    "    # 确认退出\n",
    "    def confirm_to_quit():\n",
    "        if tkinter.messagebox.askokcancel('温馨提示', '确定要退出吗?'):\n",
    "            top.quit()\n",
    "\n",
    "    # 创建顶层窗口\n",
    "    top = tkinter.Tk()\n",
    "    # 设置窗口大小\n",
    "    top.geometry('240x160')\n",
    "    # 设置窗口标题\n",
    "    top.title('小游戏')\n",
    "    # 创建标签对象并添加到顶层窗口\n",
    "    label = tkinter.Label(top, text='Hello, world!', font='Arial -32', fg='red')\n",
    "    label.pack(expand=1)\n",
    "    # 创建一个装按钮的容器\n",
    "    panel = tkinter.Frame(top)\n",
    "    # 创建按钮对象 指定添加到哪个容器中 通过command参数绑定事件回调函数\n",
    "    button1 = tkinter.Button(panel, text='修改', command=change_label_text)\n",
    "    button1.pack(side='left')\n",
    "    button2 = tkinter.Button(panel, text='退出', command=confirm_to_quit)\n",
    "    button2.pack(side='right')\n",
    "    panel.pack(side='bottom')\n",
    "    # 开启主事件循环\n",
    "    tkinter.mainloop()\n",
    "\n",
    "\n",
    "if __name__ == '__main__':\n",
    "    main()"
   ],
   "metadata": {
    "collapsed": false
   }
  },
  {
   "cell_type": "markdown",
   "source": [
    "\n",
    "需要说明的是，GUI 应用通常是事件驱动式的，之所以要进入主事件循环就是要监听鼠标、键盘等各种事件的发生并执行对应的代码对事件进行处理，因为事件会持续的发生，所以需要这样的一个循环一直运行着等待下一个事件的发生。另一方面，Tk 为控件的摆放提供了三种布局管理器，通过布局管理器可以对控件进行定位，这三种布局管理器分别是：Placer（开发者提供控件的大小和摆放位置）、Packer（自动将控件填充到合适的位置）和 Grid（基于网格坐标来摆放控件），此处不进行赘述。"
   ],
   "metadata": {
    "collapsed": false
   }
  },
  {
   "cell_type": "markdown",
   "source": [
    "### 使用 Pygame 进行游戏开发\n",
    "\n",
    "Pygame 是一个开源的 Python 模块，专门用于多媒体应用（如电子游戏）的开发，其中包含对图像、声音、视频、事件、碰撞等的支持。Pygame 建立在[SDL](https://zh.wikipedia.org/wiki/SDL)的基础上，SDL 是一套跨平台的多媒体开发库，用 C 语言实现，被广泛的应用于游戏、模拟器、播放器等的开发。而 Pygame 让游戏开发者不再被底层语言束缚，可以更多的关注游戏的功能和逻辑。\n",
    "\n",
    "下面我们来完成一个简单的小游戏，游戏的名字叫“大球吃小球”，当然完成这个游戏并不是重点，学会使用 Pygame 也不是重点，最重要的我们要在这个过程中体会如何使用前面讲解的面向对象程序设计，学会用这种编程思想去解决现实中的问题。"
   ],
   "metadata": {
    "collapsed": false
   }
  },
  {
   "cell_type": "markdown",
   "source": [
    "#### 制作游戏窗口"
   ],
   "metadata": {
    "collapsed": false
   }
  },
  {
   "cell_type": "code",
   "execution_count": null,
   "outputs": [],
   "source": [
    "import pygame\n",
    "\n",
    "\n",
    "def main():\n",
    "    # 初始化导入的pygame中的模块\n",
    "    pygame.init()\n",
    "    # 初始化用于显示的窗口并设置窗口尺寸\n",
    "    screen = pygame.display.set_mode((800, 600))\n",
    "    # 设置当前窗口的标题\n",
    "    pygame.display.set_caption('大球吃小球')\n",
    "    running = True\n",
    "    # 开启一个事件循环处理发生的事件\n",
    "    while running:\n",
    "        # 从消息队列中获取事件并对事件进行处理\n",
    "        for event in pygame.event.get():\n",
    "            if event.type == pygame.QUIT:\n",
    "                running = False\n",
    "\n",
    "\n",
    "if __name__ == '__main__':\n",
    "    main()"
   ],
   "metadata": {
    "collapsed": false
   }
  },
  {
   "cell_type": "markdown",
   "source": [
    "#### 在窗口中绘图\n",
    "\n",
    "可以通过 pygame 中 draw 模块的函数在窗口上绘图，可以绘制的图形包括：线条、矩形、多边形、圆、椭圆、圆弧等。需要说明的是，屏幕坐标系是将屏幕左上角设置为坐标原点`(0, 0)`，向右是x轴的正向，向下是y轴的正向，在表示位置或者设置尺寸的时候，我们默认的单位都是[像素](https://zh.wikipedia.org/wiki/%E5%83%8F%E7%B4%A0)。所谓像素就是屏幕上的一个点，你可以用浏览图片的软件试着将一张图片放大若干倍，就可以看到这些点。pygame 中表示颜色用的是色光[三原色](https://zh.wikipedia.org/wiki/%E5%8E%9F%E8%89%B2)表示法，即通过一个元组或列表来指定颜色的 RGB 值，每个值都在 0~255之间，因为是每种原色都用一个 8 位（bit）的值来表示，三种颜色相当于一共由 24 位构成，这也就是常说的“24 位颜色表示法”。"
   ],
   "metadata": {
    "collapsed": false
   }
  },
  {
   "cell_type": "code",
   "execution_count": null,
   "outputs": [],
   "source": [
    "import pygame\n",
    "\n",
    "\n",
    "def main():\n",
    "    # 初始化导入的pygame中的模块\n",
    "    pygame.init()\n",
    "    # 初始化用于显示的窗口并设置窗口尺寸\n",
    "    screen = pygame.display.set_mode((800, 600))\n",
    "    # 设置当前窗口的标题\n",
    "    pygame.display.set_caption('大球吃小球')\n",
    "    # 设置窗口的背景色(颜色是由红绿蓝三原色构成的元组)\n",
    "    screen.fill((242, 242, 242))\n",
    "    # 绘制一个圆(参数分别是: 屏幕, 颜色, 圆心位置, 半径, 0表示填充圆)\n",
    "    pygame.draw.circle(screen, (255, 0, 0,), (100, 100), 30, 0)\n",
    "    # 刷新当前窗口(渲染窗口将绘制的图像呈现出来)\n",
    "    pygame.display.flip()\n",
    "    running = True\n",
    "    # 开启一个事件循环处理发生的事件\n",
    "    while running:\n",
    "        # 从消息队列中获取事件并对事件进行处理\n",
    "        for event in pygame.event.get():\n",
    "            if event.type == pygame.QUIT:\n",
    "                running = False\n",
    "\n",
    "\n",
    "if __name__ == '__main__':\n",
    "    main()"
   ],
   "metadata": {
    "collapsed": false
   }
  },
  {
   "cell_type": "markdown",
   "source": [
    "#### 加载图像"
   ],
   "metadata": {
    "collapsed": false
   }
  },
  {
   "cell_type": "markdown",
   "source": [
    "如果需要直接加载图像到窗口上，可以使用 pygame 中 image 模块的函数来加载图像，再通过之前获得的窗口对象的`blit`方法渲染图像，代码如下所示。"
   ],
   "metadata": {
    "collapsed": false
   }
  },
  {
   "cell_type": "code",
   "execution_count": 1,
   "outputs": [
    {
     "ename": "ModuleNotFoundError",
     "evalue": "No module named 'pygame'",
     "output_type": "error",
     "traceback": [
      "\u001B[1;31m---------------------------------------------------------------------------\u001B[0m",
      "\u001B[1;31mModuleNotFoundError\u001B[0m                       Traceback (most recent call last)",
      "Input \u001B[1;32mIn [1]\u001B[0m, in \u001B[0;36m<cell line: 1>\u001B[1;34m()\u001B[0m\n\u001B[1;32m----> 1\u001B[0m \u001B[38;5;28;01mimport\u001B[39;00m \u001B[38;5;21;01mpygame\u001B[39;00m\n\u001B[0;32m      4\u001B[0m \u001B[38;5;28;01mdef\u001B[39;00m \u001B[38;5;21mmain\u001B[39m():\n\u001B[0;32m      5\u001B[0m     \u001B[38;5;66;03m# 初始化导入的pygame中的模块\u001B[39;00m\n\u001B[0;32m      6\u001B[0m     pygame\u001B[38;5;241m.\u001B[39minit()\n",
      "\u001B[1;31mModuleNotFoundError\u001B[0m: No module named 'pygame'"
     ]
    }
   ],
   "source": [
    "import pygame\n",
    "\n",
    "\n",
    "def main():\n",
    "    # 初始化导入的pygame中的模块\n",
    "    pygame.init()\n",
    "    # 初始化用于显示的窗口并设置窗口尺寸\n",
    "    screen = pygame.display.set_mode((800, 600))\n",
    "    # 设置当前窗口的标题\n",
    "    pygame.display.set_caption('大球吃小球')\n",
    "    # 设置窗口的背景色(颜色是由红绿蓝三原色构成的元组)\n",
    "    screen.fill((255, 255, 255))\n",
    "    # 通过指定的文件名加载图像\n",
    "    ball_image = pygame.image.load('./res/ball.png')\n",
    "    # 在窗口上渲染图像\n",
    "    screen.blit(ball_image, (50, 50))\n",
    "    # 刷新当前窗口(渲染窗口将绘制的图像呈现出来)\n",
    "    pygame.display.flip()\n",
    "    running = True\n",
    "    # 开启一个事件循环处理发生的事件\n",
    "    while running:\n",
    "        # 从消息队列中获取事件并对事件进行处理\n",
    "        for event in pygame.event.get():\n",
    "            if event.type == pygame.QUIT:\n",
    "                running = False\n",
    "\n",
    "\n",
    "if __name__ == '__main__':\n",
    "    main()"
   ],
   "metadata": {
    "collapsed": false
   }
  },
  {
   "cell_type": "markdown",
   "source": [
    "\n",
    "#### 实现动画效果\n",
    "\n",
    "说到[动画](https://zh.wikipedia.org/wiki/%E5%8A%A8%E7%94%BB)这个词大家都不会陌生，事实上要实现动画效果，本身的原理也非常简单，就是将不连续的图片连续的播放，只要每秒钟达到了一定的帧数，那么就可以做出比较流畅的动画效果。如果要让上面代码中的小球动起来，可以将小球的位置用变量来表示，并在循环中修改小球的位置再刷新整个窗口即可。"
   ],
   "metadata": {
    "collapsed": false
   }
  },
  {
   "cell_type": "code",
   "execution_count": null,
   "outputs": [],
   "source": [
    "import pygame\n",
    "\n",
    "\n",
    "def main():\n",
    "    # 初始化导入的pygame中的模块\n",
    "    pygame.init()\n",
    "    # 初始化用于显示的窗口并设置窗口尺寸\n",
    "    screen = pygame.display.set_mode((800, 600))\n",
    "    # 设置当前窗口的标题\n",
    "    pygame.display.set_caption('大球吃小球')\n",
    "    # 定义变量来表示小球在屏幕上的位置\n",
    "    x, y = 50, 50\n",
    "    running = True\n",
    "    # 开启一个事件循环处理发生的事件\n",
    "    while running:\n",
    "        # 从消息队列中获取事件并对事件进行处理\n",
    "        for event in pygame.event.get():\n",
    "            if event.type == pygame.QUIT:\n",
    "                running = False\n",
    "        screen.fill((255, 255, 255))\n",
    "        pygame.draw.circle(screen, (255, 0, 0,), (x, y), 30, 0)\n",
    "        pygame.display.flip()\n",
    "        # 每隔50毫秒就改变小球的位置再刷新窗口\n",
    "        pygame.time.delay(50)\n",
    "        x, y = x + 5, y + 5\n",
    "\n",
    "\n",
    "if __name__ == '__main__':\n",
    "    main()"
   ],
   "metadata": {
    "collapsed": false
   }
  },
  {
   "cell_type": "markdown",
   "source": [
    "#### 碰撞检测\n",
    "\n",
    "通常一个游戏中会有很多对象出现，而这些对象之间的“碰撞”在所难免，比如炮弹击中了飞机、箱子撞到了地面等。碰撞检测在绝大多数的游戏中都是一个必须得处理的至关重要的问题，pygame 的 sprite（动画精灵）模块就提供了对碰撞检测的支持，这里我们暂时不介绍 sprite 模块提供的功能，因为要检测两个小球有没有碰撞其实非常简单，只需要检查球心的距离有没有小于两个球的半径之和。为了制造出更多的小球，我们可以通过对鼠标事件的处理，在点击鼠标的位置创建颜色、大小和移动速度都随机的小球，当然要做到这一点，我们可以把之前学习到的面向对象的知识应用起来。"
   ],
   "metadata": {
    "collapsed": false
   }
  },
  {
   "cell_type": "code",
   "execution_count": null,
   "outputs": [],
   "source": [
    "from enum import Enum, unique\n",
    "from math import sqrt\n",
    "from random import randint\n",
    "\n",
    "import pygame\n",
    "\n",
    "\n",
    "@unique\n",
    "class Color(Enum):\n",
    "    \"\"\"颜色\"\"\"\n",
    "\n",
    "    RED = (255, 0, 0)\n",
    "    GREEN = (0, 255, 0)\n",
    "    BLUE = (0, 0, 255)\n",
    "    BLACK = (0, 0, 0)\n",
    "    WHITE = (255, 255, 255)\n",
    "    GRAY = (242, 242, 242)\n",
    "\n",
    "    @staticmethod\n",
    "    def random_color():\n",
    "        \"\"\"获得随机颜色\"\"\"\n",
    "        r = randint(0, 255)\n",
    "        g = randint(0, 255)\n",
    "        b = randint(0, 255)\n",
    "        return (r, g, b)\n",
    "\n",
    "\n",
    "class Ball(object):\n",
    "    \"\"\"球\"\"\"\n",
    "\n",
    "    def __init__(self, x, y, radius, sx, sy, color=Color.RED):\n",
    "        \"\"\"初始化方法\"\"\"\n",
    "        self.x = x\n",
    "        self.y = y\n",
    "        self.radius = radius\n",
    "        self.sx = sx\n",
    "        self.sy = sy\n",
    "        self.color = color\n",
    "        self.alive = True\n",
    "\n",
    "    def move(self, screen):\n",
    "        \"\"\"移动\"\"\"\n",
    "        self.x += self.sx\n",
    "        self.y += self.sy\n",
    "        if self.x - self.radius <= 0 or \\\n",
    "                self.x + self.radius >= screen.get_width():\n",
    "            self.sx = -self.sx\n",
    "        if self.y - self.radius <= 0 or \\\n",
    "                self.y + self.radius >= screen.get_height():\n",
    "            self.sy = -self.sy\n",
    "\n",
    "    def eat(self, other):\n",
    "        \"\"\"吃其他球\"\"\"\n",
    "        if self.alive and other.alive and self != other:\n",
    "            dx, dy = self.x - other.x, self.y - other.y\n",
    "            distance = sqrt(dx ** 2 + dy ** 2)\n",
    "            if distance < self.radius + other.radius \\\n",
    "                    and self.radius > other.radius:\n",
    "                other.alive = False\n",
    "                self.radius = self.radius + int(other.radius * 0.146)\n",
    "\n",
    "    def draw(self, screen):\n",
    "        \"\"\"在窗口上绘制球\"\"\"\n",
    "        pygame.draw.circle(screen, self.color,\n",
    "                           (self.x, self.y), self.radius, 0)"
   ],
   "metadata": {
    "collapsed": false
   }
  },
  {
   "cell_type": "markdown",
   "source": [
    "#### 事件处理\n",
    "\n",
    "可以在事件循环中对鼠标事件进行处理，通过事件对象的`type`属性可以判定事件类型，再通过`pos`属性就可以获得鼠标点击的位置。如果要处理键盘事件也是在这个地方，做法与处理鼠标事件类似。"
   ],
   "metadata": {
    "collapsed": false
   }
  },
  {
   "cell_type": "code",
   "execution_count": null,
   "outputs": [],
   "source": [
    "def main():\n",
    "    # 定义用来装所有球的容器\n",
    "    balls = []\n",
    "    # 初始化导入的pygame中的模块\n",
    "    pygame.init()\n",
    "    # 初始化用于显示的窗口并设置窗口尺寸\n",
    "    screen = pygame.display.set_mode((800, 600))\n",
    "    # 设置当前窗口的标题\n",
    "    pygame.display.set_caption('大球吃小球')\n",
    "    running = True\n",
    "    # 开启一个事件循环处理发生的事件\n",
    "    while running:\n",
    "        # 从消息队列中获取事件并对事件进行处理\n",
    "        for event in pygame.event.get():\n",
    "            if event.type == pygame.QUIT:\n",
    "                running = False\n",
    "            # 处理鼠标事件的代码\n",
    "            if event.type == pygame.MOUSEBUTTONDOWN and event.button == 1:\n",
    "                # 获得点击鼠标的位置\n",
    "                x, y = event.pos\n",
    "                radius = randint(10, 100)\n",
    "                sx, sy = randint(-10, 10), randint(-10, 10)\n",
    "                color = Color.random_color()\n",
    "                # 在点击鼠标的位置创建一个球(大小、速度和颜色随机)\n",
    "                ball = Ball(x, y, radius, sx, sy, color)\n",
    "                # 将球添加到列表容器中\n",
    "                balls.append(ball)\n",
    "        screen.fill((255, 255, 255))\n",
    "        # 取出容器中的球 如果没被吃掉就绘制 被吃掉了就移除\n",
    "        for ball in balls:\n",
    "            if ball.alive:\n",
    "                ball.draw(screen)\n",
    "            else:\n",
    "                balls.remove(ball)\n",
    "        pygame.display.flip()\n",
    "        # 每隔50毫秒就改变球的位置再刷新窗口\n",
    "        pygame.time.delay(50)\n",
    "        for ball in balls:\n",
    "            ball.move(screen)\n",
    "            # 检查球有没有吃到其他的球\n",
    "            for other in balls:\n",
    "                ball.eat(other)\n",
    "\n",
    "\n",
    "if __name__ == '__main__':\n",
    "    main()"
   ],
   "metadata": {
    "collapsed": false
   }
  },
  {
   "cell_type": "markdown",
   "source": [
    "上面的两段代码合在一起，我们就完成了“大球吃小球”的游戏（如下图所示），准确的说它算不上一个游戏，但是做一个小游戏的基本知识我们已经通过这个例子告诉大家了，有了这些知识已经可以开始你的小游戏开发之旅了。其实上面的代码中还有很多值得改进的地方，比如刷新窗口以及让球移动起来的代码并不应该放在事件循环中，等学习了多线程的知识后，用一个后台线程来处理这些事可能是更好的选择。如果希望获得更好的用户体验，我们还可以在游戏中加入背景音乐以及在球与球发生碰撞时播放音效，利用pygame的mixer和music模块，我们可以很容易的做到这一点，大家可以自行了解这方面的知识。事实上，想了解更多的关于pygame的知识，最好的教程是[pygame的官方网站](https://www.pygame.org/news)，如果英语没毛病就可以赶紧去看看啦。 如果想开发[3D游戏](https://zh.wikipedia.org/wiki/3D%E6%B8%B8%E6%88%8F)，pygame就显得力不从心了，对3D游戏开发如果有兴趣的读者不妨看看[Panda3D](https://www.panda3d.org/)。"
   ],
   "metadata": {
    "collapsed": false
   }
  }
 ],
 "metadata": {
  "kernelspec": {
   "display_name": "Python 3",
   "language": "python",
   "name": "python3"
  },
  "language_info": {
   "codemirror_mode": {
    "name": "ipython",
    "version": 2
   },
   "file_extension": ".py",
   "mimetype": "text/x-python",
   "name": "python",
   "nbconvert_exporter": "python",
   "pygments_lexer": "ipython2",
   "version": "2.7.6"
  }
 },
 "nbformat": 4,
 "nbformat_minor": 0
}
