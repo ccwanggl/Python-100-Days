{
 "cells": [
  {
   "cell_type": "markdown",
   "source": [
    "## 图像和办公文档处理\n",
    "\n",
    "用程序来处理图像和办公文档经常出现在实际开发中，Python的标准库中虽然没有直接支持这些操作的模块，但我们可以通过Python生态圈中的第三方模块来完成这些操作。"
   ],
   "metadata": {
    "collapsed": false
   }
  },
  {
   "cell_type": "markdown",
   "source": [
    "\n",
    "### 操作图像\n",
    "\n",
    "#### 计算机图像相关知识"
   ],
   "metadata": {
    "collapsed": false
   }
  },
  {
   "cell_type": "markdown",
   "source": [
    "\n",
    "1. 颜色。如果你有使用颜料画画的经历，那么一定知道混合红、黄、蓝三种颜料可以得到其他的颜色，事实上这三种颜色就是被我们称为美术三原色的东西，它们是不能再分解的基本颜色。在计算机中，我们可以将红、绿、蓝三种色光以不同的比例叠加来组合成其他的颜色，因此这三种颜色就是色光三原色，所以我们通常会将一个颜色表示为一个RGB值或RGBA值（其中的A表示Alpha通道，它决定了透过这个图像的像素，也就是透明度）。\n",
    "\n",
    "| 名称  |        RGBA值        |  名称  |       RGBA值       |\n",
    "| :---: | :------------------: | :----: | :----------------: |\n",
    "| White | (255, 255, 255, 255) |  Red   |  (255, 0, 0, 255)  |\n",
    "| Green |   (0, 255, 0, 255)   |  Blue  |  (0, 0, 255, 255)  |\n",
    "| Gray  | (128, 128, 128, 255) | Yellow | (255, 255, 0, 255) |\n",
    "| Black |    (0, 0, 0, 255)    | Purple | (128, 0, 128, 255) |"
   ],
   "metadata": {
    "collapsed": false
   }
  },
  {
   "cell_type": "markdown",
   "source": [
    "\n",
    "2. 像素。对于一个由数字序列表示的图像来说，最小的单位就是图像上单一颜色的小方格，这些小方块都有一个明确的位置和被分配的色彩数值，而这些一小方格的颜色和位置决定了该图像最终呈现出来的样子，它们是不可分割的单位，我们通常称之为像素（pixel）。每一个图像都包含了一定量的像素，这些像素决定图像在屏幕上所呈现的大小。"
   ],
   "metadata": {
    "collapsed": false
   }
  },
  {
   "cell_type": "markdown",
   "source": [
    "\n",
    "#### 用Pillow操作图像\n",
    "\n",
    "Pillow是由从著名的Python图像处理库PIL发展出来的一个分支，通过Pillow可以实现图像压缩和图像处理等各种操作。可以使用下面的命令来安装Pillow。\n",
    "\n",
    "```Shell\n",
    "pip install pillow\n",
    "```\n",
    "\n",
    "Pillow中最为重要的是Image类，读取和处理图像都要通过这个类来完成。\n",
    "\n",
    "```Python\n",
    ">>> from PIL import Image\n",
    ">>>\n",
    ">>> image = Image.open('./res/guido.jpg')\n",
    ">>> image.format, image.size, image.mode\n",
    "('JPEG', (500, 750), 'RGB')\n",
    ">>> image.show()\n",
    "```\n",
    "\n",
    "![](./res/image-show.png)"
   ],
   "metadata": {
    "collapsed": false
   }
  },
  {
   "cell_type": "markdown",
   "source": [
    "\n",
    "1. 剪裁图像\n",
    "\n",
    "```Python\n",
    ">>> image = Image.open('./res/guido.jpg')\n",
    ">>> rect = 80, 20, 310, 360\n",
    ">>> image.crop(rect).show()\n",
    "```\n",
    "\n",
    "![](./res/image-crop.png)"
   ],
   "metadata": {
    "collapsed": false
   }
  },
  {
   "cell_type": "markdown",
   "source": [
    "\n",
    "2. 生成缩略图\n",
    "\n",
    "```Python\n",
    ">>> image = Image.open('./res/guido.jpg')\n",
    ">>> size = 128, 128\n",
    ">>> image.thumbnail(size)\n",
    ">>> image.show()\n",
    "```\n",
    "\n",
    "![](./res/image-thumbnail.png)"
   ],
   "metadata": {
    "collapsed": false
   }
  },
  {
   "cell_type": "markdown",
   "source": [
    "\n",
    "3. 缩放和黏贴图像\n",
    "\n",
    "```Python\n",
    ">>> image1 = Image.open('./res/luohao.png')\n",
    ">>> image2 = Image.open('./res/guido.jpg')\n",
    ">>> rect = 80, 20, 310, 360\n",
    ">>> guido_head = image2.crop(rect)\n",
    ">>> width, height = guido_head.size\n",
    ">>> image1.paste(guido_head.resize((int(width / 1.5), int(height / 1.5))), (172, 40))\n",
    "```\n",
    "\n",
    "![](./res/image-paste.png)"
   ],
   "metadata": {
    "collapsed": false
   }
  },
  {
   "cell_type": "markdown",
   "source": [
    "\n",
    "4. 旋转和翻转\n",
    "\n",
    "```Python\n",
    ">>> image = Image.open('./res/guido.png')\n",
    ">>> image.rotate(180).show()\n",
    ">>> image.transpose(Image.FLIP_LEFT_RIGHT).show()\n",
    "```\n",
    "\n",
    "![](./res/image-rotate.png)\n",
    "\n",
    "![](./res/image-transpose.png)"
   ],
   "metadata": {
    "collapsed": false
   }
  },
  {
   "cell_type": "markdown",
   "source": [
    "\n",
    "5. 操作像素\n",
    "\n",
    "```Python\n",
    ">>> image = Image.open('./res/guido.jpg')\n",
    ">>> for x in range(80, 310):\n",
    "    ...     for y in range(20, 360):\n",
    "    ...         image.putpixel((x, y), (128, 128, 128))\n",
    "...\n",
    ">>> image.show()\n",
    "```\n",
    "\n",
    "![](./res/image-putpixel.png)"
   ],
   "metadata": {
    "collapsed": false
   }
  },
  {
   "cell_type": "markdown",
   "source": [
    "\n",
    "6. 滤镜效果\n",
    "\n",
    "```Python\n",
    ">>> from PIL import Image, ImageFilter\n",
    ">>>\n",
    ">>> image = Image.open('./res/guido.jpg')\n",
    ">>> image.filter(ImageFilter.CONTOUR).show()\n",
    "```\n",
    "\n",
    "![](./res/image-filter.png)"
   ],
   "metadata": {
    "collapsed": false
   }
  },
  {
   "cell_type": "markdown",
   "source": [
    "\n",
    "### 处理Excel电子表格\n",
    "\n",
    "Python的openpyxl模块让我们可以在Python程序中读取和修改Excel电子表格，由于微软从Office 2007开始使用了新的文件格式，这使得Office Excel和LibreOffice Calc、OpenOffice Calc是完全兼容的，这就意味着openpyxl模块也能处理来自这些软件生成的电子表格。\n",
    "\n",
    "```Python\n",
    "import datetime\n",
    "\n",
    "from openpyxl import Workbook\n",
    "\n",
    "wb = Workbook()\n",
    "ws = wb.active\n",
    "\n",
    "ws['A1'] = 42\n",
    "ws.append([1, 2, 3])\n",
    "ws['A2'] = datetime.datetime.now()\n",
    "\n",
    "wb.save(\"sample.xlsx\")\n",
    "```"
   ],
   "metadata": {
    "collapsed": false
   }
  },
  {
   "cell_type": "markdown",
   "source": [
    "\n",
    "### 处理Word文档\n",
    "\n",
    "利用python-docx模块，Python可以创建和修改Word文档，当然这里的Word文档不仅仅是指通过微软的Office软件创建的扩展名为docx的文档，LibreOffice Writer和OpenOffice Writer都是免费的字处理软件。\n",
    "\n",
    "```Python\n",
    "from docx import Document\n",
    "from docx.shared import Inches\n",
    "\n",
    "document = Document()\n",
    "\n",
    "document.add_heading('Document Title', 0)\n",
    "\n",
    "p = document.add_paragraph('A plain paragraph having some ')\n",
    "p.add_run('bold').bold = True\n",
    "p.add_run(' and some ')\n",
    "p.add_run('italic.').italic = True\n",
    "\n",
    "document.add_heading('Heading, level 1', level=1)\n",
    "document.add_paragraph('Intense quote', style='Intense Quote')\n",
    "\n",
    "document.add_paragraph(\n",
    "    'first item in unordered list', style='List Bullet'\n",
    ")\n",
    "document.add_paragraph(\n",
    "    'first item in ordered list', style='List Number'\n",
    ")\n",
    "\n",
    "document.add_picture('monty-truth.png', width=Inches(1.25))\n",
    "\n",
    "records = (\n",
    "    (3, '101', 'Spam'),\n",
    "    (7, '422', 'Eggs'),\n",
    "    (4, '631', 'Spam, spam, eggs, and spam')\n",
    ")\n",
    "\n",
    "table = document.add_table(rows=1, cols=3)\n",
    "hdr_cells = table.rows[0].cells\n",
    "hdr_cells[0].text = 'Qty'\n",
    "hdr_cells[1].text = 'Id'\n",
    "hdr_cells[2].text = 'Desc'\n",
    "for qty, id, desc in records:\n",
    "    row_cells = table.add_row().cells\n",
    "    row_cells[0].text = str(qty)\n",
    "    row_cells[1].text = id\n",
    "    row_cells[2].text = desc\n",
    "\n",
    "document.add_page_break()\n",
    "\n",
    "document.save('demo.docx')\n",
    "```\n"
   ],
   "metadata": {
    "collapsed": false
   }
  }
 ],
 "metadata": {
  "kernelspec": {
   "display_name": "Python 3",
   "language": "python",
   "name": "python3"
  },
  "language_info": {
   "codemirror_mode": {
    "name": "ipython",
    "version": 2
   },
   "file_extension": ".py",
   "mimetype": "text/x-python",
   "name": "python",
   "nbconvert_exporter": "python",
   "pygments_lexer": "ipython2",
   "version": "2.7.6"
  }
 },
 "nbformat": 4,
 "nbformat_minor": 0
}
